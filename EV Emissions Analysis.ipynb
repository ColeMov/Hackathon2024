{
 "cells": [
  {
   "cell_type": "code",
   "execution_count": 26,
   "id": "bd6dac32",
   "metadata": {},
   "outputs": [],
   "source": [
    "import pandas as pd\n",
    "import os\n",
    "import matplotlib as plt"
   ]
  },
  {
   "cell_type": "code",
   "execution_count": 43,
   "id": "b3732fb7",
   "metadata": {},
   "outputs": [],
   "source": [
    "renewable = pd.read_csv(\"percent_renewable_state.csv\")\n"
   ]
  },
  {
   "cell_type": "code",
   "execution_count": 37,
   "id": "ded52bc6",
   "metadata": {},
   "outputs": [],
   "source": [
    "# Gives grams of CO2 emmission created from the mileage per year\n",
    "def ev_emmisions_per_mile(data, state, yearly_mileage):\n",
    "    kwh_per_year = yearly_mileage * .25\n",
    "    dirty_kwh = data[data[\"State\"] == state][\"% Non Renewable\"].iloc[0] * kwh_per_year\n",
    "    g_co2_per_year = dirty_kwh * 388.7287\n",
    "    return g_co2_per_year / 907185"
   ]
  },
  {
   "cell_type": "code",
   "execution_count": 42,
   "id": "0286d36e",
   "metadata": {},
   "outputs": [
    {
     "data": {
      "text/plain": [
       "8.829994994405773"
      ]
     },
     "execution_count": 42,
     "metadata": {},
     "output_type": "execute_result"
    }
   ],
   "source": [
    "ev_emmisions_per_mile(renewable, \"Vermont\", 70000) + 8.8"
   ]
  },
  {
   "cell_type": "code",
   "execution_count": null,
   "id": "06b97280",
   "metadata": {},
   "outputs": [],
   "source": []
  }
 ],
 "metadata": {
  "kernelspec": {
   "display_name": "Python 3 (ipykernel)",
   "language": "python",
   "name": "python3"
  },
  "language_info": {
   "codemirror_mode": {
    "name": "ipython",
    "version": 3
   },
   "file_extension": ".py",
   "mimetype": "text/x-python",
   "name": "python",
   "nbconvert_exporter": "python",
   "pygments_lexer": "ipython3",
   "version": "3.9.13"
  }
 },
 "nbformat": 4,
 "nbformat_minor": 5
}
